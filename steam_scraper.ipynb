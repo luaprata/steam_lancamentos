{
 "cells": [
  {
   "cell_type": "code",
   "execution_count": 1,
   "id": "318cb5c2-29cd-4b9c-9051-6f712d7edc62",
   "metadata": {},
   "outputs": [
    {
     "name": "stdout",
     "output_type": "stream",
     "text": [
      "🔄 Coletando lista de jogos...\n",
      "✅ Todos os jogos carregados!\n",
      "🔄 Coletando 1216 jogos...\n"
     ]
    },
    {
     "name": "stderr",
     "output_type": "stream",
     "text": [
      "📥 Coletando informações dos jogos: 100%|███████████████████████████████████████| 1216/1216 [00:50<00:00, 23.94 jogo/s]\n"
     ]
    },
    {
     "name": "stdout",
     "output_type": "stream",
     "text": [
      "🔄 Capturando informações adicionais via Web Scraping...\n"
     ]
    },
    {
     "name": "stderr",
     "output_type": "stream",
     "text": [
      "📂 Coletando detalhes dos jogos: 100%|██████████████████████████████████████████| 1216/1216 [18:29<00:00,  1.10 jogo/s]"
     ]
    },
    {
     "name": "stdout",
     "output_type": "stream",
     "text": [
      "✅ Coletados 1216 jogos futuros e salvos em steam_upcoming_games.csv\n"
     ]
    },
    {
     "name": "stderr",
     "output_type": "stream",
     "text": [
      "\n"
     ]
    }
   ],
   "source": [
    "import time\n",
    "import pandas as pd\n",
    "import requests\n",
    "from bs4 import BeautifulSoup\n",
    "from selenium import webdriver\n",
    "from selenium.webdriver.chrome.service import Service\n",
    "from selenium.webdriver.chrome.options import Options\n",
    "from selenium.webdriver.common.by import By\n",
    "from selenium.webdriver.support.ui import Select\n",
    "from selenium.webdriver.support.ui import WebDriverWait\n",
    "from selenium.webdriver.support import expected_conditions as EC\n",
    "from tqdm import tqdm\n",
    "\n",
    "# 🔹 Caminho correto do ChromeDriver\n",
    "chrome_driver_path = r\"C:\\Users\\User\\.wdm\\drivers\\chromedriver\\win64\\133.0.6943.141\\chromedriver-win32\\chromedriver.exe\"\n",
    "\n",
    "# 🔹 Configuração do Selenium\n",
    "options = Options()\n",
    "options.add_argument(\"--headless\")  # Roda sem abrir o navegador\n",
    "options.add_argument(\"--disable-gpu\")\n",
    "options.add_argument(\"--window-size=1920,1080\")\n",
    "options.add_argument(\"--no-sandbox\")\n",
    "options.add_argument(\"--disable-dev-shm-usage\")\n",
    "\n",
    "\n",
    "# 🔹 Função para coletar os jogos sem acessar individualmente\n",
    "def collect_games():\n",
    "    print(\"🔄 Coletando lista de jogos...\")\n",
    "    \n",
    "    # Iniciar Selenium para buscar os jogos\n",
    "    service = Service(chrome_driver_path)\n",
    "    driver = webdriver.Chrome(service=service, options=options)\n",
    "\n",
    "    # Acessar a página da Steam\n",
    "    URL = \"https://store.steampowered.com/search/?filter=popularcomingsoon&ndl=1\"\n",
    "    driver.get(URL)\n",
    "    time.sleep(3)\n",
    "\n",
    "    # 🔹 Rolando a página para carregar todos os jogos\n",
    "    last_height = driver.execute_script(\"return document.body.scrollHeight\")\n",
    "    retries = 0\n",
    "    while retries < 10:  # Limite para evitar loops infinitos\n",
    "        driver.execute_script(\"window.scrollTo(0, document.body.scrollHeight);\")\n",
    "        time.sleep(3)  # Espera para carregar mais jogos\n",
    "        new_height = driver.execute_script(\"return document.body.scrollHeight\")\n",
    "        if new_height == last_height:\n",
    "            retries += 1\n",
    "        else:\n",
    "            retries = 0\n",
    "        last_height = new_height\n",
    "\n",
    "    print(\"✅ Todos os jogos carregados!\")\n",
    "\n",
    "    # 🔹 Coletando informações básicas dos jogos\n",
    "    games_data = []\n",
    "    games = driver.find_elements(By.CSS_SELECTOR, \".search_result_row\")  # Seleciona os jogos\n",
    "\n",
    "    print(f\"🔄 Coletando {len(games)} jogos...\")\n",
    "\n",
    "    for game in tqdm(games, desc=\"📥 Coletando informações dos jogos\", unit=\" jogo\"):\n",
    "        title_elem = game.find_element(By.CSS_SELECTOR, \".title\")\n",
    "        release_date_elem = game.find_element(By.CSS_SELECTOR, \".search_released\")\n",
    "        \n",
    "        # 🔹 Captura do preço\n",
    "        price_elem = game.find_elements(By.CSS_SELECTOR, \".discount_final_price\")  # Preço com desconto\n",
    "        if not price_elem:\n",
    "            price_elem = game.find_elements(By.CSS_SELECTOR, \".search_price\")  # Preço sem desconto\n",
    "        price = price_elem[0].text.strip() if price_elem else \"Indefinido\"\n",
    "\n",
    "        # 🔹 Captura da URL do jogo\n",
    "        game_url = game.get_attribute(\"href\")\n",
    "\n",
    "        # 🔹 Captura do título e data de lançamento (fallback para evitar valores vazios)\n",
    "        title = title_elem.text.strip() if title_elem.text.strip() else \"Título não disponível\"\n",
    "        release_date = release_date_elem.text.strip() if release_date_elem.text.strip() else \"Data não informada\"\n",
    "\n",
    "        games_data.append({\n",
    "            \"title\": title,\n",
    "            \"release_date\": release_date,\n",
    "            \"price\": price,\n",
    "            \"game_url\": game_url,\n",
    "            \"genres\": \"A capturar...\"  # Placeholder para depois capturar os gêneros\n",
    "        })\n",
    "\n",
    "    driver.quit()  # Fecha o Selenium\n",
    "    return games_data\n",
    "\n",
    "\n",
    "# 🔹 Função para capturar gêneros via Web Scraping (requests + BeautifulSoup)\n",
    "def get_game_details(game_url):\n",
    "    try:\n",
    "        headers = {\"User-Agent\": \"Mozilla/5.0 (Windows NT 10.0; Win64; x64)\"}\n",
    "        response = requests.get(game_url, headers=headers)\n",
    "        if response.status_code != 200:\n",
    "            return {\"genres\": \"Erro ao acessar\", \"title\": \"Título não disponível\", \"release_date\": \"Data não informada\"}\n",
    "\n",
    "        soup = BeautifulSoup(response.text, \"html.parser\")\n",
    "\n",
    "        # 🔹 Capturar título e data de lançamento (caso não tenha sido pego antes)\n",
    "        title_elem = soup.select_one(\".apphub_AppName\")\n",
    "        release_date_elem = soup.select_one(\".release_date .date\")\n",
    "\n",
    "        title = title_elem.text.strip() if title_elem else \"Título não disponível\"\n",
    "        release_date = release_date_elem.text.strip() if release_date_elem else \"Data não informada\"\n",
    "\n",
    "        # 🔹 Capturar os gêneros corretamente\n",
    "        genre_elem = soup.select(\".glance_tags.popular_tags a\")\n",
    "        genres = \", \".join([g.text.strip() for g in genre_elem]) if genre_elem else \"Sem gênero\"\n",
    "\n",
    "        return {\"genres\": genres, \"title\": title, \"release_date\": release_date}\n",
    "\n",
    "    except Exception as e:\n",
    "        return {\"genres\": f\"Erro ao capturar: {str(e)}\", \"title\": \"Título não disponível\", \"release_date\": \"Data não informada\"}\n",
    "\n",
    "\n",
    "# 🔹 Capturar lista de jogos\n",
    "games = collect_games()\n",
    "\n",
    "# 🔹 Capturar gêneros, título e data via BeautifulSoup primeiro\n",
    "print(\"🔄 Capturando informações adicionais via Web Scraping...\")\n",
    "\n",
    "for game in tqdm(games, desc=\"📂 Coletando detalhes dos jogos\", unit=\" jogo\"):\n",
    "    if game[\"game_url\"] == \"URL não disponível\":\n",
    "        game[\"genres\"] = \"Sem gênero\"\n",
    "    else:\n",
    "        details = get_game_details(game[\"game_url\"])\n",
    "        game[\"genres\"] = details[\"genres\"]\n",
    "        \n",
    "        # 🔹 Atualiza título e data de lançamento caso estejam vazios\n",
    "        if game[\"title\"] == \"Título não disponível\":\n",
    "            game[\"title\"] = details[\"title\"]\n",
    "        if game[\"release_date\"] == \"Data não informada\":\n",
    "            game[\"release_date\"] = details[\"release_date\"]\n",
    "\n",
    "# 🔹 Salvar os dados em CSV\n",
    "df = pd.DataFrame(games)\n",
    "df.to_csv(\"steam_upcoming_games.csv\", index=False, encoding=\"utf-8\")\n",
    "\n",
    "print(f\"✅ Coletados {len(games)} jogos futuros e salvos em steam_upcoming_games.csv\")\n"
   ]
  },
  {
   "cell_type": "code",
   "execution_count": null,
   "id": "0084d340-f62a-48e7-a463-c5956193cb62",
   "metadata": {},
   "outputs": [],
   "source": []
  }
 ],
 "metadata": {
  "kernelspec": {
   "display_name": "Python 3 (ipykernel)",
   "language": "python",
   "name": "python3"
  },
  "language_info": {
   "codemirror_mode": {
    "name": "ipython",
    "version": 3
   },
   "file_extension": ".py",
   "mimetype": "text/x-python",
   "name": "python",
   "nbconvert_exporter": "python",
   "pygments_lexer": "ipython3",
   "version": "3.11.7"
  }
 },
 "nbformat": 4,
 "nbformat_minor": 5
}
